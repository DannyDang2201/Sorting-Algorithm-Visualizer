{
 "cells": [
  {
   "cell_type": "code",
   "execution_count": 1,
   "metadata": {},
   "outputs": [],
   "source": [
    "def bubble_sort(list):\n",
    "    for i in range(len(list)-1, 0, -1): # Từ số cuối đến số đầu\n",
    "        for j in range(i): # Tính từ số đầu cho đến index i hiện tại\n",
    "            if list[j] > list[j+1]:\n",
    "                list[j], list[j+1] = list[j+1], list[j]"
   ]
  },
  {
   "cell_type": "code",
   "execution_count": 2,
   "metadata": {},
   "outputs": [],
   "source": [
    "import random as rd"
   ]
  },
  {
   "cell_type": "code",
   "execution_count": 9,
   "metadata": {},
   "outputs": [
    {
     "name": "stdout",
     "output_type": "stream",
     "text": [
      "[6, -49, 51, 13, 29, -30, -3, 20, 5, -63]\n",
      "[-63, -49, -30, -3, 5, 6, 13, 20, 29, 51]\n"
     ]
    }
   ],
   "source": [
    "a = rd.sample(range(-100, 100), 10) # make a list with 60 values of random integers from 0 to 100\n",
    "print(a)\n",
    "bubble_sort(a)\n",
    "print(a)"
   ]
  }
 ],
 "metadata": {
  "kernelspec": {
   "display_name": "Python 3.10.4 64-bit",
   "language": "python",
   "name": "python3"
  },
  "language_info": {
   "codemirror_mode": {
    "name": "ipython",
    "version": 3
   },
   "file_extension": ".py",
   "mimetype": "text/x-python",
   "name": "python",
   "nbconvert_exporter": "python",
   "pygments_lexer": "ipython3",
   "version": "3.10.4"
  },
  "orig_nbformat": 4,
  "vscode": {
   "interpreter": {
    "hash": "df95319d8ce4e1d89f5365ae10992bc1f65da593082b1d264e8f529830ec2f02"
   }
  }
 },
 "nbformat": 4,
 "nbformat_minor": 2
}
