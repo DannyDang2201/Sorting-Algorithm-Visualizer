{
 "cells": [
  {
   "cell_type": "code",
   "execution_count": null,
   "metadata": {},
   "outputs": [],
   "source": [
    "def insertion_sort(a):\n",
    "    for i in range(1, len(a)):\n",
    "        cur_val = a[i]\n",
    "        j = i - 1\n",
    "        while j >= 0 and cur_val < a[i]:\n",
    "            a[j+1] = a[j]\n",
    "            j -= 1\n",
    "\n",
    "\n",
    "A = [1, 3, 5, 124, 0, -223, 44, 146]\n",
    "insertion_sort(A)\n",
    "print(A)\n"
   ]
  }
 ],
 "metadata": {
  "language_info": {
   "name": "python"
  },
  "orig_nbformat": 4
 },
 "nbformat": 4,
 "nbformat_minor": 2
}
