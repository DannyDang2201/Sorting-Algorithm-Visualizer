{
 "cells": [
  {
   "cell_type": "code",
   "execution_count": 47,
   "metadata": {},
   "outputs": [],
   "source": [
    "def simple_sort(list):\n",
    "    result = [] # create a blank list\n",
    "    for i in range(0, len(list)): # consider every value in the list\n",
    "        result.append(min(list)) # append the minimum to new list\n",
    "        list.remove(min(list)) # then remove the minimum from previous list to avoid repetition\n",
    "    return result # allows user to print new list outside of function"
   ]
  },
  {
   "cell_type": "code",
   "execution_count": 52,
   "metadata": {},
   "outputs": [],
   "source": [
    "import random as rd\n",
    "a = rd.sample(range(0, 100), 60) # make a list with 60 values of random integers from 0 to 100"
   ]
  },
  {
   "cell_type": "code",
   "execution_count": 53,
   "metadata": {},
   "outputs": [],
   "source": [
    "a = simple_sort(a)"
   ]
  },
  {
   "cell_type": "code",
   "execution_count": 54,
   "metadata": {},
   "outputs": [
    {
     "name": "stdout",
     "output_type": "stream",
     "text": [
      "[1, 4, 5, 8, 9, 10, 11, 12, 16, 17, 18, 19, 20, 24, 26, 27, 28, 30, 31, 32, 34, 35, 36, 37, 38, 43, 45, 46, 48, 49, 50, 53, 54, 60, 61, 62, 63, 64, 65, 68, 70, 71, 72, 74, 75, 77, 79, 80, 81, 82, 83, 86, 87, 89, 90, 93, 94, 95, 97, 99]\n"
     ]
    }
   ],
   "source": [
    "print(a)"
   ]
  }
 ],
 "metadata": {
  "kernelspec": {
   "display_name": "Python 3.10.4 64-bit",
   "language": "python",
   "name": "python3"
  },
  "language_info": {
   "codemirror_mode": {
    "name": "ipython",
    "version": 3
   },
   "file_extension": ".py",
   "mimetype": "text/x-python",
   "name": "python",
   "nbconvert_exporter": "python",
   "pygments_lexer": "ipython3",
   "version": "3.10.4"
  },
  "orig_nbformat": 4,
  "vscode": {
   "interpreter": {
    "hash": "df95319d8ce4e1d89f5365ae10992bc1f65da593082b1d264e8f529830ec2f02"
   }
  }
 },
 "nbformat": 4,
 "nbformat_minor": 2
}
