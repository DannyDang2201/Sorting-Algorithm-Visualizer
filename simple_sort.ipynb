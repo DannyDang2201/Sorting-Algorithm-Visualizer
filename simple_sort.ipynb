{
 "cells": [
  {
   "cell_type": "code",
   "execution_count": 6,
   "metadata": {},
   "outputs": [],
   "source": [
    "def simple_sort(list):\n",
    "    result = [] # create a blank list\n",
    "    for i in range(0, len(list)): # consider every value in the list\n",
    "        result.append(min(list)) # append the minimum to new list\n",
    "        list.remove(min(list)) # then remove the minimum from previous list to avoid repetition\n",
    "    return result # allows user to print new list outside of function"
   ]
  },
  {
   "cell_type": "code",
   "execution_count": 7,
   "metadata": {},
   "outputs": [],
   "source": [
    "import random as rd"
   ]
  },
  {
   "cell_type": "code",
   "execution_count": 16,
   "metadata": {},
   "outputs": [
    {
     "name": "stdout",
     "output_type": "stream",
     "text": [
      "[-76, -65, -62, -52, -41, -33, -11, -8, 80, 86]\n"
     ]
    }
   ],
   "source": [
    "a = rd.sample(range(-100, 100), 10) # make a list with 60 values of random integers from 0 to 100\n",
    "a = simple_sort(a)\n",
    "print(a)"
   ]
  }
 ],
 "metadata": {
  "kernelspec": {
   "display_name": "Python 3.10.4 64-bit",
   "language": "python",
   "name": "python3"
  },
  "language_info": {
   "codemirror_mode": {
    "name": "ipython",
    "version": 3
   },
   "file_extension": ".py",
   "mimetype": "text/x-python",
   "name": "python",
   "nbconvert_exporter": "python",
   "pygments_lexer": "ipython3",
   "version": "3.10.4"
  },
  "orig_nbformat": 4,
  "vscode": {
   "interpreter": {
    "hash": "df95319d8ce4e1d89f5365ae10992bc1f65da593082b1d264e8f529830ec2f02"
   }
  }
 },
 "nbformat": 4,
 "nbformat_minor": 2
}
