{
 "cells": [
  {
   "cell_type": "code",
   "execution_count": 13,
   "metadata": {},
   "outputs": [],
   "source": [
    "def shell_sort(list):\n",
    "    size = len(list)\n",
    "    gap = size // 2 # take an integer value for gap\n",
    "    while gap > 0:\n",
    "        for i in range(gap, size): # from value with index of the gap value until the last value of the list\n",
    "            anchor = list[i]\n",
    "            j = i\n",
    "            while j >= gap and list[j-gap] > anchor: # swap\n",
    "                list[j-gap], list[j] = list[j], list[j-gap]\n",
    "                j -= gap\n",
    "            list[j] = anchor\n",
    "        gap = gap // 2 # reduce gap value for better accuracy of sorting"
   ]
  },
  {
   "cell_type": "code",
   "execution_count": 14,
   "metadata": {},
   "outputs": [],
   "source": [
    "import random as rd"
   ]
  },
  {
   "cell_type": "code",
   "execution_count": 19,
   "metadata": {},
   "outputs": [
    {
     "name": "stdout",
     "output_type": "stream",
     "text": [
      "[62, 58, 38, 41, 31, 68, 15, 64, 77, 91]\n",
      "[15, 31, 38, 41, 58, 62, 64, 68, 77, 91]\n"
     ]
    }
   ],
   "source": [
    "a = rd.sample(range(10, 100), 10) # make a list with 60 values of random integers from 0 to 100\n",
    "print(a)\n",
    "shell_sort(a)\n",
    "print(a)"
   ]
  }
 ],
 "metadata": {
  "kernelspec": {
   "display_name": "Python 3.10.4 64-bit",
   "language": "python",
   "name": "python3"
  },
  "language_info": {
   "codemirror_mode": {
    "name": "ipython",
    "version": 3
   },
   "file_extension": ".py",
   "mimetype": "text/x-python",
   "name": "python",
   "nbconvert_exporter": "python",
   "pygments_lexer": "ipython3",
   "version": "3.10.4"
  },
  "orig_nbformat": 4,
  "vscode": {
   "interpreter": {
    "hash": "df95319d8ce4e1d89f5365ae10992bc1f65da593082b1d264e8f529830ec2f02"
   }
  }
 },
 "nbformat": 4,
 "nbformat_minor": 2
}
